{
 "cells": [
  {
   "cell_type": "markdown",
   "metadata": {},
   "source": [
    "Question 1: Compute simple vector formula"
   ]
  },
  {
   "cell_type": "code",
   "execution_count": 28,
   "metadata": {},
   "outputs": [],
   "source": [
    "import numpy as np\n",
    "import math"
   ]
  },
  {
   "cell_type": "code",
   "execution_count": 29,
   "metadata": {},
   "outputs": [
    {
     "name": "stdout",
     "output_type": "stream",
     "text": [
      "23.28\n"
     ]
    }
   ],
   "source": [
    "# a) compute vector length (norm):\n",
    "def compute_vector_length_ver0(vector):\n",
    "    sum_to_power_of_2 = 0 \n",
    "    for element in vector:\n",
    "        sum_to_power_of_2 += element**2\n",
    "    len_of_vector = math.sqrt(sum_to_power_of_2)\n",
    "    return len_of_vector\n",
    "    \n",
    "\n",
    "def compute_vector_length_ver1(vector):\n",
    "    #vector length = norm = sum of element^2 and squared root it\n",
    "    norm = np.sqrt(np.sum([vec ** 2 for vec in vector]))\n",
    "\n",
    "    return norm\n",
    "\n",
    "def compute_vector_length_ver2(vector):\n",
    "    len_of_vector = np.linalg.norm(vector)\n",
    "    return len_of_vector\n",
    "\n",
    "vector = np.array([-2, 4, 9, 21])\n",
    "result_a = compute_vector_length_ver2(vector)\n",
    "print(round(result_a, 2))"
   ]
  },
  {
   "cell_type": "code",
   "execution_count": 30,
   "metadata": {},
   "outputs": [
    {
     "name": "stdout",
     "output_type": "stream",
     "text": [
      "4\n"
     ]
    }
   ],
   "source": [
    "# b) dot product: \n",
    "def compute_dot_product_ver1(vector1, vector2):\n",
    "    #ct 1: a x b = norm(a) x norm(b) x cos(ab)\n",
    "    #ct 2: \n",
    "    dot_product_result = np.dot(vector1, vector2)\n",
    "    return dot_product_result\n",
    "\n",
    "vec1 = np.array([0, 1, -1, 2])\n",
    "vec2 = np.array([2, 5, 1, 0])\n",
    "result_b = compute_dot_product_ver1(vec1, vec2)\n",
    "result_b = vec1.dot(vec2) #or vec2.dot(vec1) or vec1 @ vec2\n",
    "print(result_b)"
   ]
  },
  {
   "cell_type": "code",
   "execution_count": 31,
   "metadata": {},
   "outputs": [
    {
     "name": "stdout",
     "output_type": "stream",
     "text": [
      "(2, 4)\n",
      "(4,)\n"
     ]
    },
    {
     "data": {
      "text/plain": [
       "array([4, 7])"
      ]
     },
     "execution_count": 31,
     "metadata": {},
     "output_type": "execute_result"
    }
   ],
   "source": [
    "# c) multiply matrix with a vector (same like two vectors)\n",
    "def multiply_vector_matrix(matA, vecB):\n",
    "    result = compute_dot_product_ver1(matA, vecB)\n",
    "    return result\n",
    "\n",
    "#Checking dimension of shape with numpy\n",
    "mat1 = np.array([[0, 1, -1, 2],\n",
    "                 [0, 1, 2, 4]])\n",
    "print(mat1.shape)\n",
    "vec2 = np.array([2, 5, 1, 0])\n",
    "print(vec2.shape)\n",
    "\n",
    "multiply_vector_matrix(mat1, vec2)\n",
    "\n"
   ]
  },
  {
   "cell_type": "code",
   "execution_count": 32,
   "metadata": {},
   "outputs": [
    {
     "name": "stdout",
     "output_type": "stream",
     "text": [
      "(2, 4)\n",
      "(4, 2)\n",
      "[[0 2]\n",
      " [0 2]]\n",
      "\n",
      "-------------\n",
      "\n",
      "[[ 0  1 -1  2]\n",
      " [ 0  1 -1  2]\n",
      " [ 0  1 -1  2]\n",
      " [ 0  1 -1  2]]\n"
     ]
    }
   ],
   "source": [
    "# d) multiply matrix with matrix:\n",
    "def multiply_matrix_with_matrix(matA, matB):\n",
    "    result = np.dot(matA, matB)\n",
    "    return result \n",
    "\n",
    "mat1 = np.array([[0, 1, -1, 2], \n",
    "                 [0, 1, -1, 2]])\n",
    "print(mat1.shape)\n",
    "mat2 = np.array([[0, 1], \n",
    "                 [0, 1],\n",
    "                 [0, 1], \n",
    "                 [0, 1]])\n",
    "print(mat2.shape)\n",
    "\n",
    "# (2x4) x (4x2) = (2x2)\n",
    "result_mat1_x_mat2 = multiply_matrix_with_matrix(mat1, mat2)\n",
    "print(result_mat1_x_mat2)\n",
    "print(\"\\n-------------\\n\")\n",
    "# (4x2) x (2x4) = (4x4)\n",
    "result_mat2_x_mat1 = multiply_matrix_with_matrix(mat2, mat1)\n",
    "print(result_mat2_x_mat1)\n"
   ]
  },
  {
   "cell_type": "code",
   "execution_count": 33,
   "metadata": {},
   "outputs": [
    {
     "name": "stdout",
     "output_type": "stream",
     "text": [
      "[[-0.11111111  0.11111111]\n",
      " [ 1.          0.        ]]\n",
      "\n",
      "------------\n",
      "\n",
      "[[-0.1111111111111111, 0.1111111111111111], [1.0, -0.0]]\n"
     ]
    }
   ],
   "source": [
    "# e) inverse matrix:\n",
    "def inverse_matrix_without_numpy(mat1):\n",
    "    # Extract elements of the 2x2 matrix\n",
    "    a, b, c, d = matrix[0][0], matrix[0][1], matrix[1][0], matrix[1][1]\n",
    "    \n",
    "    # Calculate the determinant\n",
    "    determinant = a * d - b * c\n",
    "    \n",
    "    # Ensure the matrix is invertible (determinant should not be zero)\n",
    "    if determinant == 0:\n",
    "        raise ValueError(\"The matrix is not invertible.\")\n",
    "    \n",
    "    # Calculate the inverse using the formula\n",
    "    inverse_matrix = [\n",
    "        [d / determinant, -b / determinant],\n",
    "        [-c / determinant, a / determinant]\n",
    "    ]\n",
    "    \n",
    "    return inverse_matrix\n",
    "    \n",
    "\n",
    "\n",
    "\n",
    "def inverse_matrix(mat1):\n",
    "    inverse_matrix = np.linalg.inv(mat1)\n",
    "    return inverse_matrix\n",
    "\n",
    "matrix = np.array([[0, 1], \n",
    "                 [9, 1],])\n",
    "print(inverse_matrix(matrix))\n",
    "print(\"\\n------------\\n\")\n",
    "print(inverse_matrix_without_numpy(matrix))"
   ]
  },
  {
   "cell_type": "markdown",
   "metadata": {},
   "source": [
    "Question 2: Calculating Eigenvalues Eigenvectors"
   ]
  },
  {
   "cell_type": "code",
   "execution_count": 34,
   "metadata": {},
   "outputs": [],
   "source": [
    "#Hông Hiểu Cần Xem Lại\n",
    "def compute_eigenvalues_eigenvectors(matrix):\n",
    "    eigenvalues, eigenvectors = np.linalg.eig(matrix)\n",
    "    return eigenvalues,eigenvectors\n",
    "\n",
    "\n",
    "matrix = np.array([[0.9, 0.2], [0.1, 0.8]])\n",
    "eigenvalues, eigenvectors = compute_eigenvalues_eigenvectors(matrix)\n",
    "print(eigenvectors)"
   ]
  },
  {
   "cell_type": "markdown",
   "metadata": {},
   "source": [
    "Question 3: Computing the Cosine Similarity"
   ]
  },
  {
   "cell_type": "code",
   "execution_count": 36,
   "metadata": {},
   "outputs": [
    {
     "name": "stdout",
     "output_type": "stream",
     "text": [
      "0.5773502691896257\n"
     ]
    }
   ],
   "source": [
    "def computing_cosine(vector1, vector2):\n",
    "    a, b = compute_vector_length_ver2(vector1), compute_vector_length_ver2(vector2)\n",
    "    cosine_result = compute_dot_product_ver1(vector1, vector2) / (a * b)\n",
    "\n",
    "    return cosine_result\n",
    "\n",
    "x = np.array([1, 2, 3, 4])\n",
    "y = np.array([1, 0, 3, 0])\n",
    "\n",
    "print(computing_cosine(x, y))"
   ]
  },
  {
   "cell_type": "markdown",
   "metadata": {},
   "source": [
    "Question 4: Background subtraction (tách nền)"
   ]
  },
  {
   "cell_type": "code",
   "execution_count": 37,
   "metadata": {},
   "outputs": [],
   "source": [
    "import numpy as np\n",
    "import cv2"
   ]
  }
 ],
 "metadata": {
  "kernelspec": {
   "display_name": "base",
   "language": "python",
   "name": "python3"
  },
  "language_info": {
   "codemirror_mode": {
    "name": "ipython",
    "version": 3
   },
   "file_extension": ".py",
   "mimetype": "text/x-python",
   "name": "python",
   "nbconvert_exporter": "python",
   "pygments_lexer": "ipython3",
   "version": "3.11.7"
  }
 },
 "nbformat": 4,
 "nbformat_minor": 2
}
