{
 "cells": [
  {
   "cell_type": "code",
   "execution_count": null,
   "metadata": {},
   "outputs": [],
   "source": [
    "\"\"\"\n",
    "Question 4: Levenshtein Distance (or Edit Distance)\n",
    "Use case: relate to NLP when It can suggest the closest meaning of a word to correct it\n",
    "Operation: Delete, Insert, Subsitution (change) => Source change into Target\n",
    "How to solve: by using dynamic programing (bottom up) to solve this\n",
    "\"\"\""
   ]
  },
  {
   "cell_type": "markdown",
   "metadata": {},
   "source": [
    "Step 1: Create a python code which can print all the martrix at once:"
   ]
  },
  {
   "cell_type": "code",
   "execution_count": 3,
   "metadata": {},
   "outputs": [
    {
     "name": "stdout",
     "output_type": "stream",
     "text": [
      "Initial matrix:\n",
      "[0, 0, 0, 0, 0, 0, 0]\n",
      "[0, 0, 0, 0, 0, 0, 0]\n",
      "[0, 0, 0, 0, 0, 0, 0]\n",
      "[0, 0, 0, 0, 0, 0, 0]\n",
      "\n",
      "0\n",
      "[[0, 0, 0, 0, 0, 0, 0], [0, 0, 0, 0, 0, 0, 0], [0, 0, 0, 0, 0, 0, 0], [0, 0, 0, 0, 0, 0, 0]]\n",
      "1\n",
      "[[0, 0, 0, 0, 0, 0, 0], [1, 0, 0, 0, 0, 0, 0], [0, 0, 0, 0, 0, 0, 0], [0, 0, 0, 0, 0, 0, 0]]\n",
      "2\n",
      "[[0, 0, 0, 0, 0, 0, 0], [1, 0, 0, 0, 0, 0, 0], [2, 0, 0, 0, 0, 0, 0], [0, 0, 0, 0, 0, 0, 0]]\n",
      "3\n",
      "[[0, 0, 0, 0, 0, 0, 0], [1, 0, 0, 0, 0, 0, 0], [2, 0, 0, 0, 0, 0, 0], [3, 0, 0, 0, 0, 0, 0]]\n",
      "Matrix after setting initial values for token_1:\n",
      "[0, 0, 0, 0, 0, 0, 0]\n",
      "[1, 0, 0, 0, 0, 0, 0]\n",
      "[2, 0, 0, 0, 0, 0, 0]\n",
      "[3, 0, 0, 0, 0, 0, 0]\n",
      "\n",
      "Matrix after setting initial values for token_2:\n",
      "[0, 1, 2, 3, 4, 5, 6]\n",
      "[1, 0, 0, 0, 0, 0, 0]\n",
      "[2, 0, 0, 0, 0, 0, 0]\n",
      "[3, 0, 0, 0, 0, 0, 0]\n",
      "\n",
      "----------------------------------------------------\n",
      "[[0, 0, 0, 0, 0, 0], [0, 0, 0, 0, 0, 0], [0, 0, 0, 0, 0, 0], [0, 0, 0, 0, 0, 0]]\n"
     ]
    }
   ],
   "source": [
    "\"\"\"Creating a nested list: Idea 1\"\"\"\n",
    "\n",
    "def print_matrix(matrix):\n",
    "    for row in matrix:\n",
    "        print(row)\n",
    "    print()\n",
    "\n",
    "def levenshtein_distance(token_1, token_2):\n",
    "    rows = len(token_1) + 1\n",
    "    cols = len(token_2) + 1\n",
    "    distance = [[0] * cols for i in range(rows)]\n",
    "\n",
    "    print(\"Initial matrix:\")\n",
    "    print_matrix(distance)\n",
    "\n",
    "    for t1 in range(rows):\n",
    "        distance[t1][0] = t1\n",
    "        #Checking the iteration time\n",
    "        print(distance[t1][0])\n",
    "        #Print the martrix after iteration\n",
    "        print(distance) #nested list\n",
    "\n",
    "    print(\"Matrix after setting initial values for token_1:\")\n",
    "    print_matrix(distance)\n",
    "\n",
    "    for t2 in range(cols):\n",
    "        distance[0][t2] = t2\n",
    "\n",
    "    print(\"Matrix after setting initial values for token_2:\")\n",
    "    print_matrix(distance)\n",
    "\n",
    "# Example usage:\n",
    "levenshtein_distance(\"cat\", \"kitten\")\n",
    "   \n",
    "\n",
    "\n",
    "print(\"----------------------------------------------------\")\n",
    "\"\"\"Creating a nested list: Idea 2\"\"\"\n",
    "def edit_distance(source, target):\n",
    "    distnaces = []\n",
    "    for idx in range(len(source) + 1):\n",
    "        row = [0] * (len(target) + 1)\n",
    "        distnaces.append(row)\n",
    "    print(distnaces)\n",
    "\n",
    "edit_distance(\"meo\",\"hello\")"
   ]
  },
  {
   "cell_type": "markdown",
   "metadata": {},
   "source": [
    "Step 2: Implement solution"
   ]
  },
  {
   "cell_type": "code",
   "execution_count": 9,
   "metadata": {},
   "outputs": [
    {
     "data": {
      "text/plain": [
       "0"
      ]
     },
     "execution_count": 9,
     "metadata": {},
     "output_type": "execute_result"
    }
   ],
   "source": [
    "\"\"\"Idea 1: Techinically it from slide\"\"\"\n",
    "def levenshtein_distance(token_1, token_2):\n",
    "    rows = len(token_1) + 1\n",
    "    cols = len(token_2) + 1\n",
    "    distance = [[0] * cols for i in range(rows)]\n",
    "\n",
    "    for t1 in range(rows):\n",
    "        distance[t1][0] = t1\n",
    "\n",
    "    for t2 in range(cols):\n",
    "        distance[0][t2] = t2\n",
    "\n",
    "    del_cost = 0 #Delete cost (Cột giữ nguyêb, Hàng giữa Nguyên)\n",
    "    ins_cost = 0 #Insert cost  (Cột thay đổi và hàng giữ nguyên)\n",
    "    sub_cost = 0 #Substituation cost (Cột và hàng thay đổi)\n",
    "\n",
    "    for t1 in range(1, rows + 1):\n",
    "        for t2 in range(1, cols + 1):\n",
    "            if (token_1[t1 - 1] == token_2[t2 - 1]):\n",
    "                distance[t1][t2] = distance[t1 - 1][t2 - 1]\n",
    "            else: \n",
    "                del_cost = distance[t1][t2 - 1]\n",
    "                ins_cost = distance[t1 - 1][t2]\n",
    "                sub_cost = distance[t1 - 1][t2 - 1]\n",
    "            \n",
    "                if (del_cost <= ins_cost and del_cost<= sub_cost):\n",
    "                    distance[t1][t2] = del_cost + 1\n",
    "                elif (ins_cost <= del_cost and ins_cost<= sub_cost):\n",
    "                    distance[t1][t2] = ins_cost + 1\n",
    "                else:\n",
    "                    distance[t1][t2] = sub_cost + 1\n",
    "\n",
    "            return distance[rows - 1][cols - 1]\n",
    "\n",
    "\n",
    "levenshtein_distance(\"jack\", \"meomeo\")"
   ]
  },
  {
   "cell_type": "code",
   "execution_count": 15,
   "metadata": {},
   "outputs": [
    {
     "name": "stdout",
     "output_type": "stream",
     "text": [
      "[[0, 0, 0, 0, 0, 0], [0, 0, 0, 0, 0, 0], [0, 0, 0, 0, 0, 0], [0, 0, 0, 0, 0, 0], [0, 0, 0, 0, 0, 0]]\n",
      "[[0, 1, 2, 3, 4, 5], [1, 0, 1, 2, 3, 4], [2, 1, 1, 2, 3, 3], [3, 2, 2, 1, 2, 3], [4, 3, 3, 2, 2, 3]]\n"
     ]
    },
    {
     "data": {
      "text/plain": [
       "3"
      ]
     },
     "execution_count": 15,
     "metadata": {},
     "output_type": "execute_result"
    }
   ],
   "source": [
    "\"\"\"Idea 2: From TA Thắng's Code\"\"\"\n",
    "\n",
    "\n",
    "def edit_distance(source, target):\n",
    "    distnaces = []\n",
    "    for idx in range(len(source) + 1):\n",
    "        row = [0] * (len(target) + 1)\n",
    "        distnaces.append(row)\n",
    "    print(distnaces) #nested list\n",
    "\n",
    "    for idx in range(len(source) + 1):\n",
    "        distnaces[idx][0] = idx\n",
    "    \n",
    "    for jdx in range(len(target) + 1):\n",
    "        distnaces[0][jdx] = jdx\n",
    "\n",
    "    del_cost = 0 #Delete cost (Cột giữ nguyêb, Hàng giữa Nguyên)\n",
    "    ins_cost = 0 #Insert cost  (Cột thay đổi và hàng giữ nguyên)\n",
    "    sub_cost = 0 #Substituation cost (Cột và hàng thay đổi)\n",
    "\n",
    "    for idx in range(1, len(source) + 1):\n",
    "        for jdx in range(1, len(target) + 1):\n",
    "            if source[idx - 1] == target[jdx - 1]:\n",
    "                distnaces[idx][jdx] = distnaces[idx - 1][jdx - 1]\n",
    "            else: \n",
    "                del_cost = distnaces[idx - 1][jdx]\n",
    "                ins_cost = distnaces[idx][jdx - 1]\n",
    "                sub_cost = distnaces[idx - 1][jdx - 1]\n",
    "\n",
    "                #(idx, jdx)\n",
    "                if (del_cost <= ins_cost) and (del_cost <= sub_cost):\n",
    "                    distnaces[idx][jdx] = del_cost + 1\n",
    "                elif (ins_cost <= del_cost) and (ins_cost <= sub_cost):\n",
    "                    distnaces[idx][jdx] = ins_cost + 1\n",
    "                else: \n",
    "                    distnaces[idx][jdx] = sub_cost + 1\n",
    "\n",
    "    edit_distance = distnaces[len(source)][len(target)]\n",
    "    \n",
    "    print(distnaces)\n",
    "\n",
    "    return edit_distance\n",
    "\n",
    "\n",
    "\n",
    "\n",
    "            \n",
    "edit_distance(\"hola\", \"hello\")\n",
    "\n",
    "\n"
   ]
  }
 ],
 "metadata": {
  "kernelspec": {
   "display_name": "Python 3",
   "language": "python",
   "name": "python3"
  },
  "language_info": {
   "codemirror_mode": {
    "name": "ipython",
    "version": 3
   },
   "file_extension": ".py",
   "mimetype": "text/x-python",
   "name": "python",
   "nbconvert_exporter": "python",
   "pygments_lexer": "ipython3",
   "version": "3.11.1"
  }
 },
 "nbformat": 4,
 "nbformat_minor": 2
}
