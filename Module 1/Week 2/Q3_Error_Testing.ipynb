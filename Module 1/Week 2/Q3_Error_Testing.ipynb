{
 "cells": [
  {
   "cell_type": "markdown",
   "metadata": {},
   "source": [
    "Giải thích: \n",
    "\n",
    "phương thức append\n",
    "\n",
    "sẽ trỏ tới ô chứa của sub_list\n",
    "nếu mà append 1 đống sublist liên tục\n",
    "thì sẽ trỏ tới đúng 1 ô nhớ nhiều lần\n",
    "thì Collection of sub-lists sẽ trả về 1 chuỗi nhiều sub-list y chang nhau, với giá trị sub-list = giá trị cuối cùng mà nó được gán\n",
    "thành ra em bỏ copy() thì nhận đc 1 đống như thế\n",
    "còn copy() là tạo mới 1 list lưu vào 1 ô nhớ mới, sau đó Collection of sub-lists sẽ append ô nhớ đó vào\n",
    "thì cta mới có kết quả đúng"
   ]
  },
  {
   "cell_type": "markdown",
   "metadata": {},
   "source": [
    "Logic khi đã sửa qua Chat GPT"
   ]
  },
  {
   "cell_type": "code",
   "execution_count": 1,
   "metadata": {},
   "outputs": [
    {
     "name": "stdout",
     "output_type": "stream",
     "text": [
      "[50, 12, 28]\n",
      "[12, 28, 25]\n",
      "[28, 25, 33]\n",
      "[25, 33, 42]\n",
      "[33, 42, 47]\n",
      "[42, 47, 56]\n",
      "[47, 56, 63]\n",
      "[56, 63, 71]\n",
      "Collection of sub-lists: [[50, 12, 28], [12, 28, 25], [28, 25, 33], [25, 33, 42], [33, 42, 47], [42, 47, 56], [47, 56, 63], [56, 63, 71]]\n"
     ]
    }
   ],
   "source": [
    "def create_sub_list():\n",
    "    manual_list = [50, 12, 28, 25, 33, 42, 47, 56, 63, 71]\n",
    "\n",
    "    k = 3  # kernel size\n",
    "    collection_sub_list = []\n",
    "    sub_list = []\n",
    "\n",
    "    # Get kernels (sub-lists) and print them out\n",
    "    for element in manual_list:\n",
    "        sub_list.append(element)    \n",
    "        \n",
    "        if len(sub_list) == k:\n",
    "            collection_sub_list.append(sub_list.copy())  # Append a copy of sub_list\n",
    "            print(sub_list)\n",
    "            del sub_list[0]  \n",
    "\n",
    "    return collection_sub_list\n",
    "\n",
    "# Call the function and store the result\n",
    "result = create_sub_list()\n",
    "print(\"Collection of sub-lists:\", result)\n"
   ]
  },
  {
   "cell_type": "markdown",
   "metadata": {},
   "source": [
    "Logic bản thân tự viết"
   ]
  },
  {
   "cell_type": "code",
   "execution_count": 2,
   "metadata": {},
   "outputs": [
    {
     "name": "stdout",
     "output_type": "stream",
     "text": [
      "[50, 12, 28]\n",
      "[12, 28, 25]\n",
      "[28, 25, 33]\n",
      "[25, 33, 42]\n",
      "[33, 42, 47]\n",
      "[42, 47, 56]\n",
      "[47, 56, 63]\n",
      "[56, 63, 71]\n",
      "[[63, 71], [63, 71], [63, 71], [63, 71], [63, 71], [63, 71], [63, 71], [63, 71]]\n"
     ]
    }
   ],
   "source": [
    "def create_sub_list():\n",
    "    manual_list = [50, 12, 28, 25, 33, 42, 47, 56, 63, 71,]\n",
    "\n",
    "    k = 3 #kernel\n",
    "    collection_sub_list = []\n",
    "    sub_list = []\n",
    "\n",
    "    #Get kernels (sub-list) and print it out\n",
    "    for element in manual_list:\n",
    "        sub_list.append(element)    \n",
    "        \n",
    "        if len(sub_list) == k:\n",
    "            collection_sub_list.append(sub_list)\n",
    "            print(sub_list)\n",
    "            del sub_list[0]\n",
    "            \n",
    "        \n",
    "        \n",
    "            \n",
    "\n",
    "    return print(collection_sub_list)\n",
    "\n",
    "create_sub_list()"
   ]
  }
 ],
 "metadata": {
  "kernelspec": {
   "display_name": "Python 3",
   "language": "python",
   "name": "python3"
  },
  "language_info": {
   "codemirror_mode": {
    "name": "ipython",
    "version": 3
   },
   "file_extension": ".py",
   "mimetype": "text/x-python",
   "name": "python",
   "nbconvert_exporter": "python",
   "pygments_lexer": "ipython3",
   "version": "3.11.1"
  }
 },
 "nbformat": 4,
 "nbformat_minor": 2
}
